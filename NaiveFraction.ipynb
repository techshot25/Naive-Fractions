{
  "nbformat": 4,
  "nbformat_minor": 0,
  "metadata": {
    "colab": {
      "name": "NaiveFraction.ipynb",
      "provenance": [],
      "collapsed_sections": []
    },
    "kernelspec": {
      "name": "python3",
      "display_name": "Python 3"
    }
  },
  "cells": [
    {
      "cell_type": "markdown",
      "metadata": {
        "id": "3_V-5KH5XW5O",
        "colab_type": "text"
      },
      "source": [
        "# Naive Fractions\n",
        "\n",
        "How does a calculator get a rational approximation for an irrational number?\n",
        "\n",
        "**Postulate**: For any two rational numbers, the following inequality is always true:\n",
        "\n",
        "$$\\frac{a}{b} < \\frac{a + c}{b + d} < \\frac{c}{d} \\;\\; \\text{ where } \\{a, b, c, d\\, \\} \\in \\mathbb{Z}$$\n",
        "\n",
        "Thus we can get an approximate rational number $\\frac{a + c}{b + d}$ by replacing left or right fractions with the apprixmation and repeating until the difference between the given fraction and the rational number is within certain bounds."
      ]
    },
    {
      "cell_type": "code",
      "metadata": {
        "id": "xl1STY1nlxW_",
        "colab_type": "code",
        "colab": {
          "base_uri": "https://localhost:8080/",
          "height": 72
        },
        "outputId": "922ded89-1639-40a4-9115-38d5df385430"
      },
      "source": [
        "def naive_fraction(x, tol=1.0e-5):\n",
        "    \"\"\"\n",
        "    Parameters\n",
        "    ----------\n",
        "    x : float\n",
        "        The irrational number to approximate.\n",
        "    tol : float, optional\n",
        "        The tolerance difference between x and the fraction approximation.\n",
        "        (Default=1e-5)\n",
        "    \n",
        "    Returns\n",
        "    -------\n",
        "    tuple\n",
        "        The approximation ratio represented as a tuple of (num, denom).\n",
        "    \"\"\"\n",
        "    tol = abs(tol)\n",
        "    mul = int(x)\n",
        "    x = abs(x) - abs(mul)\n",
        "    a, b, c, d = (0, 1, 1, 1)\n",
        "    diff = float(\"inf\")\n",
        "    while diff > tol:\n",
        "        u = a + c\n",
        "        l = b + d\n",
        "        if u/l > x > a/b:\n",
        "            c, d = u, l\n",
        "        else:\n",
        "            a, b = u, l\n",
        "        diff = abs(u/l - x)\n",
        "    return (u + mul * l, l) if mul >= 0 else (-u + mul * l, l)\n",
        "\n",
        "print(naive_fraction(0.66666666))\n",
        "print(naive_fraction(123/91))\n",
        "print(naive_fraction(-3.14))"
      ],
      "execution_count": null,
      "outputs": [
        {
          "output_type": "stream",
          "text": [
            "(2, 3)\n",
            "(123, 91)\n",
            "(-157, 50)\n"
          ],
          "name": "stdout"
        }
      ]
    }
  ]
}